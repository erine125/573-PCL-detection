{
 "cells": [
  {
   "cell_type": "code",
   "execution_count": 1,
   "id": "12ae5d75-f647-4a42-83e1-378c73db251b",
   "metadata": {},
   "outputs": [],
   "source": [
    "from transformers import AutoTokenizer, AutoModelForMaskedLM, BertTokenizerFast, RoFormerModel, RoFormerTokenizerFast\n",
    "from transformers import BertForSequenceClassification, AdamW, BertConfig,BertTokenizer,get_linear_schedule_with_warmup\n",
    "from transformers import RoFormerForSequenceClassification"
   ]
  },
  {
   "cell_type": "code",
   "execution_count": 2,
   "id": "d443b51b-e828-4468-93be-6f9f5563310e",
   "metadata": {},
   "outputs": [
    {
     "name": "stderr",
     "output_type": "stream",
     "text": [
      "Some weights of RoFormerModel were not initialized from the model checkpoint at junnyu/roformer_chinese_base and are newly initialized: ['roformer.encoder.embed_positions.weight']\n",
      "You should probably TRAIN this model on a down-stream task to be able to use it for predictions and inference.\n"
     ]
    }
   ],
   "source": [
    "tokenizer = RoFormerTokenizerFast.from_pretrained(\"junnyu/roformer_chinese_base\")\n",
    "model = RoFormerModel.from_pretrained(\"junnyu/roformer_chinese_base\")"
   ]
  },
  {
   "cell_type": "code",
   "execution_count": 3,
   "id": "93a38b67-7de7-4f1c-9e8a-90b35bbf50a5",
   "metadata": {},
   "outputs": [],
   "source": [
    "import torch\n",
    "import pandas as pd\n",
    "\n",
    "import torch.nn as nn\n",
    "from torch.utils.data import TensorDataset, DataLoader, RandomSampler, SequentialSampler,random_split"
   ]
  },
  {
   "cell_type": "code",
   "execution_count": 4,
   "id": "29bd1782-76df-4074-b714-b3804d7bded4",
   "metadata": {},
   "outputs": [],
   "source": [
    "# to run on GPU with CUDA\n",
    "device = torch.device(\"cuda:0\" if torch.cuda.is_available() else \"cpu\")"
   ]
  },
  {
   "cell_type": "code",
   "execution_count": 5,
   "id": "50863d4c-52f2-41b1-b1eb-270b84d7eb36",
   "metadata": {},
   "outputs": [
    {
     "data": {
      "text/html": [
       "<div>\n",
       "<style scoped>\n",
       "    .dataframe tbody tr th:only-of-type {\n",
       "        vertical-align: middle;\n",
       "    }\n",
       "\n",
       "    .dataframe tbody tr th {\n",
       "        vertical-align: top;\n",
       "    }\n",
       "\n",
       "    .dataframe thead th {\n",
       "        text-align: right;\n",
       "    }\n",
       "</style>\n",
       "<table border=\"1\" class=\"dataframe\">\n",
       "  <thead>\n",
       "    <tr style=\"text-align: right;\">\n",
       "      <th></th>\n",
       "      <th>text</th>\n",
       "      <th>target</th>\n",
       "    </tr>\n",
       "  </thead>\n",
       "  <tbody>\n",
       "    <tr>\n",
       "      <th>0</th>\n",
       "      <td>确实太没品了，取关了不用送。</td>\n",
       "      <td>0</td>\n",
       "    </tr>\n",
       "    <tr>\n",
       "      <th>1</th>\n",
       "      <td>你倒是去做点实事啊？凭两句话就做“大善人”不亏心吗</td>\n",
       "      <td>0</td>\n",
       "    </tr>\n",
       "    <tr>\n",
       "      <th>2</th>\n",
       "      <td>现实中不是单亲家庭的，打爸妈不孝顺的比单亲的可多多了太开心]</td>\n",
       "      <td>0</td>\n",
       "    </tr>\n",
       "    <tr>\n",
       "      <th>3</th>\n",
       "      <td>“是为了寻求更多关注无意中受到大家关注”</td>\n",
       "      <td>0</td>\n",
       "    </tr>\n",
       "    <tr>\n",
       "      <th>4</th>\n",
       "      <td>一想起考公考研都推荐看人民日报评论，就觉得也就那样了，没啥希望，我是指各种意义上的没啥希望</td>\n",
       "      <td>0</td>\n",
       "    </tr>\n",
       "    <tr>\n",
       "      <th>5</th>\n",
       "      <td>讨论恶法亦法，恶法非法的前提是，先确定“恶”的标准，这个标准是“道德”还是别的什么。实现法治...</td>\n",
       "      <td>0</td>\n",
       "    </tr>\n",
       "    <tr>\n",
       "      <th>6</th>\n",
       "      <td>遥想两年前干工程的时候，每天吃着10块钱盒饭，还有鸡腿，肉丸子，足可以果腹</td>\n",
       "      <td>0</td>\n",
       "    </tr>\n",
       "    <tr>\n",
       "      <th>7</th>\n",
       "      <td>别说一个14岁的孩子，疫情这么长时间，我们成年人有几个不崩溃的，只是我们上有老下有小，不敢死...</td>\n",
       "      <td>0</td>\n",
       "    </tr>\n",
       "    <tr>\n",
       "      <th>8</th>\n",
       "      <td>人民日报招高学历就是为了写这些东西恶心人吗</td>\n",
       "      <td>0</td>\n",
       "    </tr>\n",
       "    <tr>\n",
       "      <th>9</th>\n",
       "      <td>我也被新疆人偷过手机，它手伸我口袋给我一把拽回来，我质问她你为什么拿我手机！她狠狠看了我一眼...</td>\n",
       "      <td>0</td>\n",
       "    </tr>\n",
       "  </tbody>\n",
       "</table>\n",
       "</div>"
      ],
      "text/plain": [
       "                                                text  target\n",
       "0                                     确实太没品了，取关了不用送。       0\n",
       "1                          你倒是去做点实事啊？凭两句话就做“大善人”不亏心吗       0\n",
       "2                     现实中不是单亲家庭的，打爸妈不孝顺的比单亲的可多多了太开心]       0\n",
       "3                               “是为了寻求更多关注无意中受到大家关注”       0\n",
       "4      一想起考公考研都推荐看人民日报评论，就觉得也就那样了，没啥希望，我是指各种意义上的没啥希望       0\n",
       "5  讨论恶法亦法，恶法非法的前提是，先确定“恶”的标准，这个标准是“道德”还是别的什么。实现法治...       0\n",
       "6              遥想两年前干工程的时候，每天吃着10块钱盒饭，还有鸡腿，肉丸子，足可以果腹       0\n",
       "7  别说一个14岁的孩子，疫情这么长时间，我们成年人有几个不崩溃的，只是我们上有老下有小，不敢死...       0\n",
       "8                              人民日报招高学历就是为了写这些东西恶心人吗       0\n",
       "9  我也被新疆人偷过手机，它手伸我口袋给我一把拽回来，我质问她你为什么拿我手机！她狠狠看了我一眼...       0"
      ]
     },
     "execution_count": 5,
     "metadata": {},
     "output_type": "execute_result"
    }
   ],
   "source": [
    "df = pd.read_csv(\"data\\\\CCPC_BinaryLabels.csv\")\n",
    "df.head(n=10)"
   ]
  },
  {
   "cell_type": "code",
   "execution_count": 6,
   "id": "5cbd2f30-47a7-41cb-8bfd-9cda03918f62",
   "metadata": {},
   "outputs": [],
   "source": [
    "from sklearn.model_selection import train_test_split\n",
    "from sklearn.metrics import classification_report\n",
    "\n",
    "SEED = 42\n",
    "\n",
    "test_data, train_data = train_test_split(df, train_size = 0.9, random_state = SEED)"
   ]
  },
  {
   "cell_type": "code",
   "execution_count": 7,
   "id": "c21016e2-1486-4211-a5df-345fd9804e4e",
   "metadata": {},
   "outputs": [],
   "source": [
    "train_sentences = train_data.text.values\n",
    "train_labels = train_data.target.values"
   ]
  },
  {
   "cell_type": "code",
   "execution_count": 8,
   "id": "8d0bc4dd-d2c3-46b8-85b6-a2a6627797a2",
   "metadata": {},
   "outputs": [],
   "source": [
    "# split train into train and validation\n",
    "\n",
    "import numpy as np\n",
    "\n",
    "def split_data_randomly(sentences, labels, train_size, random_seed=None):\n",
    "    \"\"\"\n",
    "    Split the data randomly into training and validation sets.\n",
    "\n",
    "    Parameters:\n",
    "    - sentences: numpy array containing sentences\n",
    "    - labels: numpy array containing corresponding labels\n",
    "    - train_size: proportion of the dataset to include in the training set\n",
    "    - random_seed: seed for random number generator (optional)\n",
    "\n",
    "    Returns:\n",
    "    - train_sentences: numpy array containing training sentences\n",
    "    - train_labels: numpy array containing corresponding training labels\n",
    "    - val_sentences: numpy array containing validation sentences\n",
    "    - val_labels: numpy array containing corresponding validation labels\n",
    "    \"\"\"\n",
    "\n",
    "    # Set random seed if provided\n",
    "    if random_seed:\n",
    "        np.random.seed(random_seed)\n",
    "\n",
    "    # Shuffle the data\n",
    "    shuffled_indices = np.random.permutation(len(sentences))\n",
    "    shuffled_sentences = sentences[shuffled_indices]\n",
    "    shuffled_labels = labels[shuffled_indices]\n",
    "\n",
    "    # Calculate the number of samples for training\n",
    "    train_samples = int(len(sentences) * train_size)\n",
    "\n",
    "    # Split the data into training and validation sets\n",
    "    train_sentences = shuffled_sentences[:train_samples]\n",
    "    train_labels = shuffled_labels[:train_samples]\n",
    "    val_sentences = shuffled_sentences[train_samples:]\n",
    "    val_labels = shuffled_labels[train_samples:]\n",
    "\n",
    "    return train_sentences, train_labels, val_sentences, val_labels\n",
    "\n",
    "train_size = 0.9  \n",
    "\n",
    "train_sentences, train_labels, val_sentences, val_labels = split_data_randomly(train_sentences, train_labels, train_size, random_seed=42)"
   ]
  },
  {
   "cell_type": "code",
   "execution_count": 9,
   "id": "65e12559-9615-4b04-b8b8-08b224d3a795",
   "metadata": {},
   "outputs": [
    {
     "name": "stdout",
     "output_type": "stream",
     "text": [
      "Max sentence length:  105\n"
     ]
    }
   ],
   "source": [
    "# Training\n",
    "# This actually tokenizes all the sentences and updates the max length so the model knows where to pad the sentences.\n",
    "max_len = 0\n",
    "\n",
    "# For every sentence...\n",
    "for sent in train_sentences:\n",
    "\n",
    "    # Tokenize the text and add `[CLS]` and `[SEP]` tokens.\n",
    "    train_input_ids = tokenizer.encode(sent, add_special_tokens=True)\n",
    "\n",
    "    # Update the maximum sentence length.\n",
    "    max_len = max(max_len, len(train_input_ids))\n",
    "\n",
    "print('Max sentence length: ', max_len)"
   ]
  },
  {
   "cell_type": "code",
   "execution_count": 10,
   "id": "35d72254-8c1d-4e3b-9a41-514f30cd9ae8",
   "metadata": {},
   "outputs": [
    {
     "name": "stdout",
     "output_type": "stream",
     "text": [
      " Original:  你在说什么啊，医院食堂你都不让你穿白大褂进，得脱了挂外面\n",
      "Tokenized:  ['你', '在', '说', '什么', '啊', '，', '医院', '食堂', '你', '都', '不让', '你', '穿', '白', '大', '褂', '进', '，', '得', '脱', '了', '挂', '外面']\n",
      "Token IDs:  [381, 1101, 4656, 8377, 956, 5661, 11541, 34388, 381, 5034, 7045, 381, 3653, 3396, 1230, 4554, 4921, 5661, 1729, 4069, 266, 2029, 14435]\n"
     ]
    }
   ],
   "source": [
    "# This just shows how it has been tokenized and id-mapped. We can delete.\n",
    "print(' Original: ', train_sentences[0])\n",
    "\n",
    "# Print the sentence split into tokens.\n",
    "print('Tokenized: ', tokenizer.tokenize(train_sentences[0]))\n",
    "\n",
    "# Print the sentence mapped to token ids.\n",
    "print('Token IDs: ', tokenizer.convert_tokens_to_ids(tokenizer.tokenize(train_sentences[0]))) "
   ]
  },
  {
   "cell_type": "code",
   "execution_count": 11,
   "id": "d45932d7-ffc9-4759-9dfa-4b0902d22a98",
   "metadata": {},
   "outputs": [
    {
     "name": "stdout",
     "output_type": "stream",
     "text": [
      "Original:  你在说什么啊，医院食堂你都不让你穿白大褂进，得脱了挂外面\n",
      "Token IDs: tensor([ 101,  381, 1101,  ...,    0,    0,    0])\n"
     ]
    }
   ],
   "source": [
    "train_input_ids = []\n",
    "train_attention_masks = []\n",
    "\n",
    "# For every stc...\n",
    "for stc in train_sentences:\n",
    "    # `encode_plus` will:\n",
    "    #   (1) Tokenize the sentence.\n",
    "    #   (2) Prepend the `[CLS]` token to the start.\n",
    "    #   (3) Append the `[SEP]` token to the end.\n",
    "    #   (4) Map tokens to their IDs.\n",
    "    #   (5) Pad or truncate the sentence to `max_length`\n",
    "    #   (6) Create attention masks for [PAD] tokens.\n",
    "    train_encoded_dict = tokenizer.encode_plus(\n",
    "                        stc,                      # Sentence to encode.\n",
    "                        add_special_tokens = True, # Add '[CLS]' and '[SEP]'\n",
    "                        truncation=True,\n",
    "                        #max_length = max_len,           # Pad & truncate all sentences.\n",
    "                        padding = 'max_length',\n",
    "                        return_attention_mask = True,   # Construct attn. masks.\n",
    "                        return_tensors = 'pt',     # Return pytorch tensors.\n",
    "                   )\n",
    "\n",
    "    # Add the encoded sentence to the list.\n",
    "    train_input_ids.append(train_encoded_dict['input_ids'])\n",
    "\n",
    "    # And its attention mask (simply differentiates padding from non-padding).\n",
    "    train_attention_masks.append(train_encoded_dict['attention_mask'])\n",
    "\n",
    "# Convert the lists into tensors.\n",
    "train_input_ids = torch.cat(train_input_ids, dim=0)\n",
    "train_attention_masks = torch.cat(train_attention_masks, dim=0)\n",
    "train_labels = torch.tensor(train_labels)\n",
    "\n",
    "# Print sentence 0, now as a list of IDs.\n",
    "print('Original: ', train_sentences[0])\n",
    "print('Token IDs:', train_input_ids[0])"
   ]
  },
  {
   "cell_type": "code",
   "execution_count": 12,
   "id": "d4ba645b-29a7-4cdf-9e97-2614e517eba9",
   "metadata": {},
   "outputs": [
    {
     "name": "stdout",
     "output_type": "stream",
     "text": [
      "Original:  普通人太难了泪]\n",
      "Token IDs: tensor([  101, 39788,  1232,  ...,     0,     0,     0])\n"
     ]
    }
   ],
   "source": [
    "val_input_ids = []\n",
    "val_attention_masks = []\n",
    "\n",
    "# For every stc...\n",
    "for stc in val_sentences:\n",
    "    # `encode_plus` will:\n",
    "    #   (1) Tokenize the sentence.\n",
    "    #   (2) Prepend the `[CLS]` token to the start.\n",
    "    #   (3) Append the `[SEP]` token to the end.\n",
    "    #   (4) Map tokens to their IDs.\n",
    "    #   (5) Pad or truncate the sentence to `max_length`\n",
    "    #   (6) Create attention masks for [PAD] tokens.\n",
    "    val_encoded_dict = tokenizer.encode_plus(\n",
    "                        stc,                      # Sentence to encode.\n",
    "                        add_special_tokens = True, # Add '[CLS]' and '[SEP]'\n",
    "                        truncation=True,\n",
    "                        #max_length = max_len,           # Pad & truncate all sentences.\n",
    "                        padding = 'max_length',\n",
    "                        return_attention_mask = True,   # Construct attn. masks.\n",
    "                        return_tensors = 'pt',     # Return pytorch tensors.\n",
    "                   )\n",
    "\n",
    "    # Add the encoded sentence to the list.\n",
    "    val_input_ids.append(val_encoded_dict['input_ids'])\n",
    "\n",
    "    # And its attention mask (simply differentiates padding from non-padding).\n",
    "    val_attention_masks.append(val_encoded_dict['attention_mask'])\n",
    "\n",
    "# Convert the lists into tensors.\n",
    "val_input_ids = torch.cat(val_input_ids, dim=0)\n",
    "val_attention_masks = torch.cat(val_attention_masks, dim=0)\n",
    "val_labels = torch.tensor(val_labels)\n",
    "\n",
    "# Print sentence 0, now as a list of IDs.\n",
    "print('Original: ', val_sentences[0])\n",
    "print('Token IDs:', val_input_ids[0])"
   ]
  },
  {
   "cell_type": "code",
   "execution_count": 13,
   "id": "f368dc37-2608-43f8-a079-7d83e0fdead3",
   "metadata": {},
   "outputs": [
    {
     "name": "stdout",
     "output_type": "stream",
     "text": [
      "450  training samples\n",
      "50  validation samples\n"
     ]
    }
   ],
   "source": [
    "# Combine the training inputs into a TensorDataset.\n",
    "train_dataset = TensorDataset(train_input_ids, train_attention_masks, train_labels)\n",
    "\n",
    "# Combine the validation inputs into a TensorDataset.\n",
    "val_dataset = TensorDataset(val_input_ids, val_attention_masks, val_labels)\n",
    "\n",
    "print(len(train_dataset), ' training samples')\n",
    "print(len(val_dataset), ' validation samples')\n"
   ]
  },
  {
   "cell_type": "code",
   "execution_count": 14,
   "id": "39cd2169-8723-4908-812d-8da214fc76ec",
   "metadata": {},
   "outputs": [],
   "source": [
    "batch_size = 16\n",
    "\n",
    "# Create the DataLoaders for our training and validation sets.\n",
    "# We'll take training samples in random order.\n",
    "train_dataloader = DataLoader(\n",
    "            train_dataset,  # The training samples.\n",
    "            sampler = RandomSampler(train_dataset), # Select batches randomly\n",
    "            batch_size = batch_size # Trains with this batch size.\n",
    "        )\n",
    "\n",
    "# For validation the order doesn't matter, so we'll just read them sequentially.\n",
    "validation_dataloader = DataLoader(\n",
    "            val_dataset, # The validation samples.\n",
    "            sampler = SequentialSampler(val_dataset), # Pull out batches sequentially.\n",
    "            batch_size = batch_size # Evaluate with this batch size.\n",
    "        )"
   ]
  },
  {
   "cell_type": "code",
   "execution_count": 15,
   "id": "cae479e4-0886-45ee-9f09-c12abbb8e467",
   "metadata": {},
   "outputs": [
    {
     "name": "stderr",
     "output_type": "stream",
     "text": [
      "Some weights of RoFormerForSequenceClassification were not initialized from the model checkpoint at junnyu/roformer_chinese_base and are newly initialized: ['classifier.dense.bias', 'classifier.dense.weight', 'classifier.out_proj.bias', 'classifier.out_proj.weight', 'roformer.encoder.embed_positions.weight']\n",
      "You should probably TRAIN this model on a down-stream task to be able to use it for predictions and inference.\n"
     ]
    }
   ],
   "source": [
    "model = RoFormerForSequenceClassification.from_pretrained(\n",
    "    \"junnyu/roformer_chinese_base\", \n",
    "    num_labels = 2, # The number of output labels--2 for binary classification.\n",
    "                    # You can increase this for multi-class tasks.\n",
    "    output_attentions = False, # Whether the model returns attentions weights.\n",
    "    output_hidden_states = False, # Whether the model returns all hidden-states.\n",
    ")\n",
    "\n",
    "# enable gradient checkpointing to avoid out of memory with GPU training\n",
    "model.gradient_checkpointing_enable()\n",
    "\n",
    "model = model.to(device)"
   ]
  },
  {
   "cell_type": "code",
   "execution_count": 16,
   "id": "d9e27315-1a35-423d-a1be-e01694a8ed44",
   "metadata": {},
   "outputs": [
    {
     "name": "stderr",
     "output_type": "stream",
     "text": [
      "D:\\Anaconda\\envs\\env573\\Lib\\site-packages\\transformers\\optimization.py:588: FutureWarning: This implementation of AdamW is deprecated and will be removed in a future version. Use the PyTorch implementation torch.optim.AdamW instead, or set `no_deprecation_warning=True` to disable this warning\n",
      "  warnings.warn(\n"
     ]
    }
   ],
   "source": [
    "optimizer = AdamW(model.parameters(),\n",
    "                  lr = 5e-5, # args.learning_rate - default is 5e-5, our notebook had 2e-5\n",
    "                  eps = 1e-8 # args.adam_epsilon  - default is 1e-8.\n",
    "                )"
   ]
  },
  {
   "cell_type": "code",
   "execution_count": 17,
   "id": "3d908850-e52c-4a38-8b78-2fa8bf3d0c73",
   "metadata": {},
   "outputs": [],
   "source": [
    "# Number of training epochs\n",
    "epochs = 2\n",
    "\n",
    "# Total number of training steps is [number of batches] x [number of epochs].\n",
    "# (Note that this is not the same as the number of training samples).\n",
    "total_steps = len(train_dataloader) * epochs\n",
    "\n",
    "# Create the learning rate scheduler.\n",
    "scheduler = get_linear_schedule_with_warmup(optimizer,\n",
    "                                            num_warmup_steps = 0, # Default value in run_glue.py\n",
    "                                            num_training_steps = total_steps)"
   ]
  },
  {
   "cell_type": "code",
   "execution_count": 18,
   "id": "44796000-0aa8-4a9d-b654-1f4073fb586e",
   "metadata": {},
   "outputs": [],
   "source": [
    "import random\n",
    "import datetime\n",
    "import time"
   ]
  },
  {
   "cell_type": "code",
   "execution_count": 19,
   "id": "9ac94075-db4a-42b5-8560-725ad5a3fc05",
   "metadata": {},
   "outputs": [],
   "source": [
    "# Function to calculate the accuracy of our predictions vs labels\n",
    "def flat_accuracy(preds, labels):\n",
    "    pred_flat = np.argmax(preds, axis=1).flatten()\n",
    "    labels_flat = labels.flatten()\n",
    "    return np.sum(pred_flat == labels_flat) / len(labels_flat)"
   ]
  },
  {
   "cell_type": "code",
   "execution_count": 20,
   "id": "5dd876e4-b885-4f29-8518-ffeeeed3157d",
   "metadata": {},
   "outputs": [],
   "source": [
    "def format_time(elapsed):\n",
    "    '''\n",
    "    Takes a time in seconds and returns a string hh:mm:ss\n",
    "    '''\n",
    "    # Round to the nearest second.\n",
    "    elapsed_rounded = int(round((elapsed)))\n",
    "    # Format as hh:mm:ss\n",
    "    return str(datetime.timedelta(seconds=elapsed_rounded))"
   ]
  },
  {
   "cell_type": "code",
   "execution_count": 21,
   "id": "c4814bc6-7dd1-4565-a97a-50ceadbf51af",
   "metadata": {},
   "outputs": [
    {
     "name": "stdout",
     "output_type": "stream",
     "text": [
      "\n",
      "======== Epoch 1 / 2 ========\n",
      "Training...\n",
      "\n",
      "  Average training loss: 0.55\n",
      "  Training epoch took: 1:10:46\n",
      "\n",
      "Running Validation...\n",
      "  Accuracy: 0.92\n",
      "\n",
      "======== Epoch 2 / 2 ========\n",
      "Training...\n",
      "\n",
      "  Average training loss: 0.34\n",
      "  Training epoch took: 0:55:18\n",
      "\n",
      "Running Validation...\n",
      "  Accuracy: 0.91\n",
      "\n",
      "Training complete!\n",
      "Total training took 2:08:42 (h:mm:ss)\n"
     ]
    }
   ],
   "source": [
    "random.seed(SEED)\n",
    "np.random.seed(SEED)\n",
    "torch.manual_seed(SEED)\n",
    "torch.cuda.manual_seed_all(SEED)\n",
    "training_stats = []\n",
    "# Measure the total training time for the whole run.\n",
    "total_t0 = time.time()\n",
    "\n",
    "# For each epoch...\n",
    "for epoch_i in range(0, epochs):\n",
    "\n",
    "    # ========================================\n",
    "    #               Training\n",
    "    # ========================================\n",
    "    # Perform one full pass over the training set.\n",
    "    print(\"\")\n",
    "    print('======== Epoch {:} / {:} ========'.format(epoch_i + 1, epochs))\n",
    "    print('Training...')\n",
    "    # Measure how long the training epoch takes.\n",
    "    t0 = time.time()\n",
    "    total_train_loss = 0\n",
    "    model.train()\n",
    "    for step, batch in enumerate(train_dataloader):\n",
    "        # Unpack this training batch from our dataloader.\n",
    "        #\n",
    "        # As we unpack the batch, we'll also copy each tensor to the device using the\n",
    "        # `to` method.\n",
    "        #\n",
    "        # `batch` contains three pytorch tensors:\n",
    "        #   [0]: input ids\n",
    "        #   [1]: attention masks\n",
    "        #   [2]: labels\n",
    "        b_input_ids = batch[0].to(device)\n",
    "        b_input_mask = batch[1].to(device)\n",
    "        b_labels = batch[2].to(device)\n",
    "        optimizer.zero_grad()\n",
    "        output = model(b_input_ids,\n",
    "                             token_type_ids=None,\n",
    "                             attention_mask=b_input_mask,\n",
    "                             labels=b_labels)\n",
    "        loss = output.loss\n",
    "        total_train_loss += loss.item()\n",
    "        # Perform a backward pass to calculate the gradients.\n",
    "        loss.backward()\n",
    "        # Clip the norm of the gradients to 1.0.\n",
    "        # This is to help prevent the \"exploding gradients\" problem.\n",
    "        torch.nn.utils.clip_grad_norm_(model.parameters(), 1.0)\n",
    "        # Update parameters and take a step using the computed gradient.\n",
    "        # The optimizer dictates the \"update rule\"--how the parameters are\n",
    "        # modified based on their gradients, the learning rate, etc.\n",
    "        optimizer.step()\n",
    "        # Update the learning rate.\n",
    "        scheduler.step()\n",
    "\n",
    "    # Calculate the average loss over all of the batches.\n",
    "    avg_train_loss = total_train_loss / len(train_dataloader)\n",
    "\n",
    "    # Measure how long this epoch took.\n",
    "    training_time = format_time(time.time() - t0)\n",
    "    print(\"\")\n",
    "    print(\"  Average training loss: {0:.2f}\".format(avg_train_loss))\n",
    "    print(\"  Training epoch took: {:}\".format(training_time))\n",
    "    # ========================================\n",
    "    #               Validation\n",
    "    # ========================================\n",
    "    # After the completion of each training epoch, measure our performance on\n",
    "    # our validation set.\n",
    "    print(\"\")\n",
    "    print(\"Running Validation...\")\n",
    "    t0 = time.time()\n",
    "    # Put the model in evaluation mode--the dropout layers behave differently\n",
    "    # during evaluation.\n",
    "    model.eval()\n",
    "    # Tracking variables\n",
    "    total_eval_accuracy = 0\n",
    "    best_eval_accuracy = 0\n",
    "    total_eval_loss = 0\n",
    "    nb_eval_steps = 0\n",
    "    # Evaluate data for one epoch\n",
    "    for batch in validation_dataloader:\n",
    "        b_input_ids = batch[0].to(device)\n",
    "        b_input_mask = batch[1].to(device)\n",
    "        b_labels = batch[2].to(device)\n",
    "        # Tell pytorch not to bother with constructing the compute graph during\n",
    "        # the forward pass, since this is only needed for backprop (training).\n",
    "        with torch.no_grad():\n",
    "            output= model(b_input_ids,\n",
    "                                   token_type_ids=None,\n",
    "                                   attention_mask=b_input_mask,\n",
    "                                   labels=b_labels)\n",
    "        loss = output.loss\n",
    "        total_eval_loss += loss.item()\n",
    "        # Move logits and labels to CPU if we are using GPU\n",
    "        logits = output.logits\n",
    "        logits = logits.detach().cpu().numpy()\n",
    "        label_ids = b_labels.to('cpu').numpy()\n",
    "        # Calculate the accuracy for this batch of test sentences, and\n",
    "        # accumulate it over all batches.\n",
    "        total_eval_accuracy += flat_accuracy(logits, label_ids)\n",
    "    # Report the final accuracy for this validation run.\n",
    "    avg_val_accuracy = total_eval_accuracy / len(validation_dataloader)\n",
    "    print(\"  Accuracy: {0:.2f}\".format(avg_val_accuracy))\n",
    "    # Calculate the average loss over all of the batches.\n",
    "    avg_val_loss = total_eval_loss / len(validation_dataloader)\n",
    "    # Measure how long the validation run took.\n",
    "    validation_time = format_time(time.time() - t0)\n",
    "    if avg_val_accuracy > best_eval_accuracy:\n",
    "        torch.save(model, 'RoFormerModel_Chinese')\n",
    "        best_eval_accuracy = avg_val_accuracy\n",
    "    #print(\"  Validation Loss: {0:.2f}\".format(avg_val_loss))\n",
    "    #print(\"  Validation took: {:}\".format(validation_time))\n",
    "    # Record all statistics from this epoch.\n",
    "    training_stats.append(\n",
    "        {\n",
    "            'epoch': epoch_i + 1,\n",
    "            'Training Loss': avg_train_loss,\n",
    "            'Valid. Loss': avg_val_loss,\n",
    "            'Valid. Accur.': avg_val_accuracy,\n",
    "            'Training Time': training_time,\n",
    "            'Validation Time': validation_time\n",
    "        }\n",
    "    )\n",
    "print(\"\")\n",
    "print(\"Training complete!\")\n",
    "\n",
    "print(\"Total training took {:} (h:mm:ss)\".format(format_time(time.time()-total_t0)))"
   ]
  },
  {
   "cell_type": "code",
   "execution_count": 22,
   "id": "2c507653-ea12-4d0f-a034-0462df092730",
   "metadata": {},
   "outputs": [],
   "source": [
    "# TESTING\n",
    "\n",
    "model = torch.load('RoFormerModel_Chinese') # load the chinese model"
   ]
  },
  {
   "cell_type": "code",
   "execution_count": 23,
   "id": "ed94f2d9-800f-4f9e-9cce-b9aba46074b4",
   "metadata": {},
   "outputs": [],
   "source": [
    "test_sentences = test_data['text'].values\n",
    "test_labels = test_data['target'].values"
   ]
  },
  {
   "cell_type": "code",
   "execution_count": 24,
   "id": "35c09d4c-6423-432a-94d1-57c98a26dbc0",
   "metadata": {},
   "outputs": [],
   "source": [
    "test_input_ids = []\n",
    "test_attention_masks = []\n",
    "for stc in test_sentences:\n",
    "    encoded_dict = tokenizer.encode_plus(\n",
    "                        stc,\n",
    "                        truncation=True,\n",
    "                        padding = 'max_length',\n",
    "                        add_special_tokens = True,\n",
    "                        # max_length = max_len,\n",
    "                        # pad_to_max_length = True,\n",
    "                        return_attention_mask = True,\n",
    "                        return_tensors = 'pt',\n",
    "                   )\n",
    "    test_input_ids.append(encoded_dict['input_ids'])\n",
    "    test_attention_masks.append(encoded_dict['attention_mask'])\n",
    "test_input_ids = torch.cat(test_input_ids, dim=0) \n",
    "test_attention_masks = torch.cat(test_attention_masks, dim=0)"
   ]
  },
  {
   "cell_type": "code",
   "execution_count": 25,
   "id": "9ab39081-7b71-479d-853f-2d31ed641fd5",
   "metadata": {},
   "outputs": [],
   "source": [
    "batch_size = 16\n",
    "\n",
    "test_dataset = TensorDataset(test_input_ids, test_attention_masks)\n",
    "test_dataloader = DataLoader(\n",
    "            test_dataset, # The validation samples.\n",
    "            sampler = SequentialSampler(test_dataset), # Pull out batches sequentially.\n",
    "            batch_size = batch_size # Evaluate with this batch size.\n",
    "        )"
   ]
  },
  {
   "cell_type": "code",
   "execution_count": 26,
   "id": "b2f958f4-c40c-49cf-89d1-87f4e5152f27",
   "metadata": {},
   "outputs": [],
   "source": [
    "predictions = []\n",
    "for batch in test_dataloader:\n",
    "        b_input_ids = batch[0].to(device)\n",
    "        b_input_mask = batch[1].to(device)\n",
    "        with torch.no_grad():\n",
    "            output= model(b_input_ids,\n",
    "                                   token_type_ids=None,\n",
    "                                   attention_mask=b_input_mask)\n",
    "            logits = output.logits\n",
    "            logits = logits.detach().cpu().numpy()\n",
    "            pred_flat = np.argmax(logits, axis=1).flatten()\n",
    "\n",
    "            predictions.extend(list(pred_flat))"
   ]
  },
  {
   "cell_type": "code",
   "execution_count": 27,
   "id": "82b9da95-157f-4972-8007-7cc81db24825",
   "metadata": {},
   "outputs": [],
   "source": [
    "df_output = pd.DataFrame()\n",
    "#df_output['id'] = df_test['id'] # Do we need to add ids?\n",
    "df_output['target'] =predictions\n",
    "results_filename = 'RoFormer_Evaltest.out'\n",
    "\n",
    "df_output.to_csv(results_filename,index=False, header=False)"
   ]
  },
  {
   "cell_type": "code",
   "execution_count": 28,
   "id": "07366f70-49b3-4998-a519-b49391057507",
   "metadata": {},
   "outputs": [],
   "source": [
    "# EVALUATION\n",
    "\n",
    "import sys\n",
    "from sklearn.metrics import precision_score, recall_score, f1_score, classification_report\n",
    "import numpy as np\n",
    "import pandas as pd\n",
    "\n",
    "# read in the CSV and get the gold labels\n",
    "task1_gold = test_labels\n",
    "\n",
    "# read in the results file and get the system output labels\n",
    "task1_res = []\n",
    "with open(results_filename) as f:\n",
    "    for line in f:\n",
    "        task1_res.append(int(line.strip()))\n",
    "\n",
    "with open('RoFormer_Evaltest_Results.txt', 'w') as outf:\n",
    "\n",
    "    # task 1 scores\n",
    "    t1p = precision_score(task1_gold, task1_res)\n",
    "    t1r = recall_score(task1_gold, task1_res)\n",
    "    t1f = f1_score(task1_gold, task1_res)\n",
    "    # task1\n",
    "    outf.write('task1_precision:'+str(t1p)+'\\n')\n",
    "    outf.write('task1_recall:'+str(t1r)+'\\n')\n",
    "    outf.write('task1_f1:'+str(t1f)+'\\n')    "
   ]
  }
 ],
 "metadata": {
  "kernelspec": {
   "display_name": "Python 3 (ipykernel)",
   "language": "python",
   "name": "python3"
  },
  "language_info": {
   "codemirror_mode": {
    "name": "ipython",
    "version": 3
   },
   "file_extension": ".py",
   "mimetype": "text/x-python",
   "name": "python",
   "nbconvert_exporter": "python",
   "pygments_lexer": "ipython3",
   "version": "3.12.3"
  }
 },
 "nbformat": 4,
 "nbformat_minor": 5
}
